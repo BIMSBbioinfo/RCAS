{
 "cells": [
  {
   "cell_type": "markdown",
   "metadata": {},
   "source": [
    "#RCAS project\n",
    "Make a standalone RNA Centric Annotation System that provides intuitive reports and publication ready graphics.\n",
    "\n",
    "##Tutorial\n",
    "\n",
    "###RCAS dependencies:\n",
    "\n",
    "-**gff2bed**:\n",
    "http://bedops.readthedocs.org/en/latest/content/reference/file-management/conversion/gff2bed.html\n",
    "\n",
    "-**sort-bed**:\n",
    "http://bedops.readthedocs.org/en/latest/content/reference/file-management/sorting/sort-bed.html\n",
    "\n",
    "-**bedmap**:\n",
    "http://bedops.readthedocs.org/en/latest/content/reference/statistics/bedmap.html\n",
    "\n",
    "-**installation of gff2bed, sort-bed, bedmap**:\n",
    "http://bedops.readthedocs.org/en/latest/content/reference/statistics/bedmap.html\n",
    "\n",
    "-**parse_anot.py**: src/parse_anot.py\n",
    "\n",
    "-**gff track** e.g.  wget -qO- ftp://ftp.sanger.ac.uk/pub/gencode/Gencode_human/release_23/gencode.v23.annotation.gff3.gz     | gunzip > gencode.v23.annotation.gff3\n",
    "\n",
    "###RCAS workflow is built with snakemake:\n",
    "\n",
    "-rules: src/RCAS.snakefile\n",
    "\n",
    "-visulization: RCAS_dag.pdf\n",
    "\n",
    "###Test case\n",
    "####Aim: **generate annotation** for coordinates in the targetfiles\n",
    "\n",
    "1. clone the source: **git clone https://github.com/dyusuf/RCAS**\n",
    "\n",
    "2. make dependency tools system wise executable, e.g. **ln -s path_to/RCAS/src/parse_anot.py ~/bin/.**\n",
    "\n",
    "3. cd path_to/RCAS/test\n",
    "\n",
    "4. tartget files in path_to/RCAS/test: **PARCLIP_AGO1234_Hafner2010a_hg19_xaa.bed  PARCLIP_AGO1234_Hafner2010a_hg19_xab.bed  PARCLIP_AGO1234_Hafner2010a_hg19_xac.bed** \n",
    "\n",
    "5. command: **snakemake -s ../src/RCAS.snakefile -p --config ref=path_to/gencode.v23.annotation.gff3 infile=PAR*bed**\n",
    "\n",
    "\n"
   ]
  }
 ],
 "metadata": {
  "kernelspec": {
   "display_name": "Python 2",
   "language": "python",
   "name": "python2"
  },
  "language_info": {
   "codemirror_mode": {
    "name": "ipython",
    "version": 2
   },
   "file_extension": ".py",
   "mimetype": "text/x-python",
   "name": "python",
   "nbconvert_exporter": "python",
   "pygments_lexer": "ipython2",
   "version": "2.7.10"
  }
 },
 "nbformat": 4,
 "nbformat_minor": 0
}
